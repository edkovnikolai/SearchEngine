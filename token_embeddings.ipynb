{
 "cells": [
  {
   "cell_type": "code",
   "execution_count": null,
   "id": "initial_id",
   "metadata": {},
   "outputs": [],
   "source": [
    "\"\"\"\n",
    "Embed tokens in the dataset\n",
    "\"\"\"\n",
    "# path to raw dataset\n",
    "raw_dataset_path = './stlawu-webpages.jsonl'\n",
    "print(raw_dataset_path)"
   ]
  },
  {
   "cell_type": "code",
   "execution_count": null,
   "id": "e0149475aad06bb3",
   "metadata": {},
   "outputs": [],
   "source": [
    "from datasets import load_dataset\n",
    "\n",
    "raw_dataset = load_dataset('json', data_files=raw_dataset_path, split='train')\n",
    "raw_dataset\n",
    "\n",
    "raw_dataset['url'][:1000]\n"
   ]
  },
  {
   "cell_type": "code",
   "execution_count": null,
   "id": "edd1ebfb7f58e425",
   "metadata": {},
   "outputs": [],
   "source": [
    "from transformers import AutoTokenizer, AutoModel\n",
    "\n",
    "model_ckpt = \"intfloat/e5-mistral-7b-instruct\"\n",
    "tokenizer = AutoTokenizer.from_pretrained(model_ckpt)\n",
    "model = AutoModel.from_pretrained(model_ckpt)"
   ]
  },
  {
   "cell_type": "code",
   "execution_count": null,
   "id": "993be639-3bdb-4155-b905-5e3d36948c20",
   "metadata": {},
   "outputs": [],
   "source": [
    "# import torch\n",
    "\n",
    "# device = torch.device(\"cuda\")\n",
    "# model.to(device)"
   ]
  },
  {
   "cell_type": "code",
   "execution_count": null,
   "id": "5305e6e1-651f-4b8c-82c4-50414348559a",
   "metadata": {},
   "outputs": [],
   "source": [
    "model.max_seq_length = 4096 * 2\n",
    "print(model)\n",
    "print(tokenizer)"
   ]
  },
  {
   "cell_type": "code",
   "execution_count": null,
   "id": "4c385a72-aa83-49d1-b623-cb12c08ffe3f",
   "metadata": {},
   "outputs": [],
   "source": [
    "\n",
    "tokenized_text = tokenizer(raw_dataset[0]['html_doc'])\n",
    "tokenized_text.input_ids[:10]"
   ]
  },
  {
   "cell_type": "code",
   "execution_count": null,
   "id": "fa534ac7-144b-4c07-941f-fc214dd05954",
   "metadata": {},
   "outputs": [],
   "source": [
    "def get_embeddings(text_list):\n",
    "    encoded_input = tokenizer(\n",
    "        text_list, padding='max_length', truncation=True, return_tensors=\"pt\", max_length=model.max_seq_length\n",
    "    )\n",
    "    print(encoded_input)\n",
    "    # encoded_input = {k: v.to(device) for k, v in encoded_input.items()}\n",
    "    model_output = model(**encoded_input)\n",
    "    # return cls_pooling(model_output)\n",
    "    return model_output\n"
   ]
  },
  {
   "cell_type": "code",
   "execution_count": null,
   "id": "ad4875af-39f2-4698-9684-49c7b3442380",
   "metadata": {},
   "outputs": [],
   "source": [
    "get_embeddings(raw_dataset['html_doc'][0]).last_hidden_state.shape\n",
    "get_embeddings('Hi, this is me!').last_hidden_state.shape"
   ]
  },
  {
   "cell_type": "code",
   "execution_count": null,
   "id": "adcd142d-b65d-48fe-b865-299f7b25f188",
   "metadata": {},
   "outputs": [],
   "source": [
    "from html_cleaner import clean_html"
   ]
  },
  {
   "cell_type": "code",
   "execution_count": null,
   "id": "e62ec6ad-8917-4a91-b332-1be1535d680b",
   "metadata": {},
   "outputs": [],
   "source": [
    "print(raw_dataset['html_doc'][0])"
   ]
  },
  {
   "cell_type": "code",
   "execution_count": null,
   "id": "cc8eced6-85db-4d26-ac8b-15166242905f",
   "metadata": {},
   "outputs": [],
   "source": [
    "print(clean_html(raw_dataset['html_doc'][0]))"
   ]
  },
  {
   "cell_type": "code",
   "execution_count": null,
   "id": "f8403012-08b6-4cea-ba72-e0e3207d2991",
   "metadata": {},
   "outputs": [],
   "source": [
    "cleaned_html = clean_html(raw_dataset['html_doc'][20])\n",
    "\n",
    "embeddings = get_embeddings(cleaned_html)\n",
    "print(embeddings)\n"
   ]
  },
  {
   "cell_type": "code",
   "execution_count": null,
   "id": "dcfdd697-681b-48fc-acbe-a738e04723db",
   "metadata": {},
   "outputs": [],
   "source": [
    "print(embeddings.last_hidden_state.shape)\n",
    "print(embeddings.last_hidden_state[0, :-3, :])"
   ]
  },
  {
   "cell_type": "code",
   "execution_count": null,
   "id": "a05efdf9-da78-49a1-9b0d-f4d76bcbf193",
   "metadata": {},
   "outputs": [],
   "source": [
    "from html_cleaner import clean_dataset_path\n",
    "from datasets import load_from_disk\n",
    "clean_dataset = load_from_disk(clean_dataset_path)"
   ]
  },
  {
   "cell_type": "code",
   "execution_count": null,
   "id": "7cf5f10e-d7f9-461e-9b55-160129c71a29",
   "metadata": {},
   "outputs": [],
   "source": [
    "print(clean_dataset)"
   ]
  },
  {
   "cell_type": "code",
   "execution_count": null,
   "id": "73276ecd-7693-4288-9b81-44e5d6bf9525",
   "metadata": {},
   "outputs": [],
   "source": [
    "# getting rid off unknown stuff\n",
    "clean_dataset = clean_dataset.filter(lambda x: '<div>' in x['html_doc'])"
   ]
  },
  {
   "cell_type": "code",
   "execution_count": null,
   "id": "5ef9b6cf-17f9-4d41-a333-bed02c91f542",
   "metadata": {},
   "outputs": [],
   "source": [
    "clean_dataset[4421]"
   ]
  },
  {
   "cell_type": "code",
   "execution_count": 1,
   "id": "78f75070-8e34-4889-8d35-71deb98ba601",
   "metadata": {},
   "outputs": [
    {
     "name": "stderr",
     "output_type": "stream",
     "text": [
      "/home/nikolai/SearchEngine/venv/lib64/python3.12/site-packages/tqdm/auto.py:21: TqdmWarning: IProgress not found. Please update jupyter and ipywidgets. See https://ipywidgets.readthedocs.io/en/stable/user_install.html\n",
      "  from .autonotebook import tqdm as notebook_tqdm\n"
     ]
    }
   ],
   "source": [
    "# adding faiss index\n",
    "from create_embeddings import embeddings_dataset_path\n",
    "from datasets import load_from_disk\n",
    "import numpy as np\n",
    "\n",
    "embeddings_dataset = load_from_disk(embeddings_dataset_path)"
   ]
  },
  {
   "cell_type": "code",
   "execution_count": 4,
   "id": "cdd59abd-f5a1-4309-99d1-e84b01c6793d",
   "metadata": {},
   "outputs": [
    {
     "name": "stdout",
     "output_type": "stream",
     "text": [
      "4096\n"
     ]
    }
   ],
   "source": [
    "print(len(embeddings_dataset['embeddings'][0]))"
   ]
  },
  {
   "cell_type": "code",
   "execution_count": null,
   "id": "34f1a156-6ecc-427f-ab6a-4ceac7f02fc6",
   "metadata": {},
   "outputs": [],
   "source": [
    "print(embeddings_dataset['embeddings'][0])\n",
    "# print(type(embeddings_dataset['embeddings'][0]))"
   ]
  },
  {
   "cell_type": "code",
   "execution_count": null,
   "id": "707e43ad-7621-4577-a310-6f90a5ee5120",
   "metadata": {},
   "outputs": [],
   "source": [
    "embeddings_dataset.add_faiss_index(column='embeddings')"
   ]
  },
  {
   "cell_type": "code",
   "execution_count": null,
   "id": "e44d40b5-1adc-4f43-bf94-e21a5dfaea7b",
   "metadata": {},
   "outputs": [],
   "source": [
    "print(embeddings_dataset)"
   ]
  },
  {
   "cell_type": "code",
   "execution_count": null,
   "id": "2db7e0a7-6c80-4ddf-8381-2da344cf685b",
   "metadata": {},
   "outputs": [],
   "source": [
    "# saving it \n",
    "embeddings_dataset.save_to_disk(embeddings_dataset_path)"
   ]
  }
 ],
 "metadata": {
  "kernelspec": {
   "display_name": "Python 3 (ipykernel)",
   "language": "python",
   "name": "python3"
  },
  "language_info": {
   "codemirror_mode": {
    "name": "ipython",
    "version": 3
   },
   "file_extension": ".py",
   "mimetype": "text/x-python",
   "name": "python",
   "nbconvert_exporter": "python",
   "pygments_lexer": "ipython3",
   "version": "3.12.11"
  }
 },
 "nbformat": 4,
 "nbformat_minor": 5
}
